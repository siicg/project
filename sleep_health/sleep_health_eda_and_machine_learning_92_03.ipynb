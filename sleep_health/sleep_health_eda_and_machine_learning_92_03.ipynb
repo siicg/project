{
  "metadata": {
    "kernelspec": {
      "language": "python",
      "display_name": "Python 3",
      "name": "python3"
    },
    "language_info": {
      "name": "python",
      "version": "3.10.10",
      "mimetype": "text/x-python",
      "codemirror_mode": {
        "name": "ipython",
        "version": 3
      },
      "pygments_lexer": "ipython3",
      "nbconvert_exporter": "python",
      "file_extension": ".py"
    },
    "colab": {
      "provenance": []
    }
  },
  "nbformat_minor": 0,
  "nbformat": 4,
  "cells": [
    {
      "cell_type": "markdown",
      "source": [
        "## <font color='yellow'> Sleep Health.</font>"
      ],
      "metadata": {
        "id": "lO5VcQOBJIea"
      }
    },
    {
      "cell_type": "markdown",
      "source": [
        "###The Sleep Health and Lifestyle Dataset has 400 rows and 13 columns, covering variables like sleep duration, quality, physical activity, stress levels, and more.\n",
        "###I used the \"Sleep_health.csv\" for the machine learning classification analysis."
      ],
      "metadata": {
        "id": "k70CwjCJJIey"
      }
    },
    {
      "cell_type": "markdown",
      "source": [
        "#### Importing Libraries."
      ],
      "metadata": {
        "id": "DkGRMDoDJIe3"
      }
    },
    {
      "cell_type": "code",
      "source": [
        "import pandas as pd\n",
        "import numpy as np\n",
        "import matplotlib.pyplot as plt\n",
        "from sklearn.metrics import accuracy_score, confusion_matrix, classification_report\n",
        "from yellowbrick.classifier import ConfusionMatrix\n",
        "from sklearn.tree import DecisionTreeClassifier\n",
        "from sklearn.model_selection import RandomizedSearchCV"
      ],
      "metadata": {
        "execution": {
          "iopub.status.busy": "2023-07-11T22:11:15.219685Z",
          "iopub.execute_input": "2023-07-11T22:11:15.220249Z",
          "iopub.status.idle": "2023-07-11T22:11:15.228884Z",
          "shell.execute_reply.started": "2023-07-11T22:11:15.220212Z",
          "shell.execute_reply": "2023-07-11T22:11:15.227285Z"
        },
        "trusted": true,
        "id": "78-l0fpWJIe3"
      },
      "execution_count": null,
      "outputs": []
    },
    {
      "cell_type": "markdown",
      "source": [
        "## <font color='yellow'> 1. Importing Dataset. </font>"
      ],
      "metadata": {
        "id": "F4yVW7TfJIe4"
      }
    },
    {
      "cell_type": "markdown",
      "source": [
        "#### Here we are reading the database using the name \"df\" in the variable."
      ],
      "metadata": {
        "id": "-1l7C0qFJIe5"
      }
    },
    {
      "cell_type": "code",
      "source": [
        "df = pd.read_csv('sleep_data.csv')"
      ],
      "metadata": {
        "execution": {
          "iopub.status.busy": "2023-07-11T22:11:18.081138Z",
          "iopub.execute_input": "2023-07-11T22:11:18.081600Z",
          "iopub.status.idle": "2023-07-11T22:11:18.109139Z",
          "shell.execute_reply.started": "2023-07-11T22:11:18.081566Z",
          "shell.execute_reply": "2023-07-11T22:11:18.108261Z"
        },
        "trusted": true,
        "id": "NlQZ2G7gJIe5"
      },
      "execution_count": null,
      "outputs": []
    },
    {
      "cell_type": "markdown",
      "source": [
        "#### Here we can see that we have categorical and continuous variables, we can also see that we don't have null values."
      ],
      "metadata": {
        "id": "5Oc74FgpJIe6"
      }
    },
    {
      "cell_type": "code",
      "source": [
        "df.head(5)"
      ],
      "metadata": {
        "execution": {
          "iopub.status.busy": "2023-07-11T22:11:18.465346Z",
          "iopub.execute_input": "2023-07-11T22:11:18.466054Z",
          "iopub.status.idle": "2023-07-11T22:11:18.506669Z",
          "shell.execute_reply.started": "2023-07-11T22:11:18.466018Z",
          "shell.execute_reply": "2023-07-11T22:11:18.505296Z"
        },
        "_kg_hide-input": true,
        "trusted": true,
        "colab": {
          "base_uri": "https://localhost:8080/",
          "height": 337
        },
        "id": "pgxBxCRQJIe7",
        "outputId": "727c40c6-f281-48e6-f571-229021770ae8"
      },
      "execution_count": null,
      "outputs": [
        {
          "output_type": "execute_result",
          "data": {
            "text/plain": [
              "   Person ID Gender  Age            Occupation  Sleep Duration  \\\n",
              "0          1   Male   27     Software Engineer             6.1   \n",
              "1          2   Male   28                Doctor             6.2   \n",
              "2          3   Male   28                Doctor             6.2   \n",
              "3          4   Male   28  Sales Representative             5.9   \n",
              "4          5   Male   28  Sales Representative             5.9   \n",
              "\n",
              "   Quality of Sleep  Physical Activity Level  Stress Level BMI Category  \\\n",
              "0                 6                       42             6   Overweight   \n",
              "1                 6                       60             8       Normal   \n",
              "2                 6                       60             8       Normal   \n",
              "3                 4                       30             8        Obese   \n",
              "4                 4                       30             8        Obese   \n",
              "\n",
              "  Blood Pressure  Heart Rate  Daily Steps Sleep Disorder  \n",
              "0         126/83          77         4200           None  \n",
              "1         125/80          75        10000           None  \n",
              "2         125/80          75        10000           None  \n",
              "3         140/90          85         3000    Sleep Apnea  \n",
              "4         140/90          85         3000    Sleep Apnea  "
            ],
            "text/html": [
              "\n",
              "\n",
              "  <div id=\"df-a0e71fbb-d279-4161-8004-cd6f63fc138a\">\n",
              "    <div class=\"colab-df-container\">\n",
              "      <div>\n",
              "<style scoped>\n",
              "    .dataframe tbody tr th:only-of-type {\n",
              "        vertical-align: middle;\n",
              "    }\n",
              "\n",
              "    .dataframe tbody tr th {\n",
              "        vertical-align: top;\n",
              "    }\n",
              "\n",
              "    .dataframe thead th {\n",
              "        text-align: right;\n",
              "    }\n",
              "</style>\n",
              "<table border=\"1\" class=\"dataframe\">\n",
              "  <thead>\n",
              "    <tr style=\"text-align: right;\">\n",
              "      <th></th>\n",
              "      <th>Person ID</th>\n",
              "      <th>Gender</th>\n",
              "      <th>Age</th>\n",
              "      <th>Occupation</th>\n",
              "      <th>Sleep Duration</th>\n",
              "      <th>Quality of Sleep</th>\n",
              "      <th>Physical Activity Level</th>\n",
              "      <th>Stress Level</th>\n",
              "      <th>BMI Category</th>\n",
              "      <th>Blood Pressure</th>\n",
              "      <th>Heart Rate</th>\n",
              "      <th>Daily Steps</th>\n",
              "      <th>Sleep Disorder</th>\n",
              "    </tr>\n",
              "  </thead>\n",
              "  <tbody>\n",
              "    <tr>\n",
              "      <th>0</th>\n",
              "      <td>1</td>\n",
              "      <td>Male</td>\n",
              "      <td>27</td>\n",
              "      <td>Software Engineer</td>\n",
              "      <td>6.1</td>\n",
              "      <td>6</td>\n",
              "      <td>42</td>\n",
              "      <td>6</td>\n",
              "      <td>Overweight</td>\n",
              "      <td>126/83</td>\n",
              "      <td>77</td>\n",
              "      <td>4200</td>\n",
              "      <td>None</td>\n",
              "    </tr>\n",
              "    <tr>\n",
              "      <th>1</th>\n",
              "      <td>2</td>\n",
              "      <td>Male</td>\n",
              "      <td>28</td>\n",
              "      <td>Doctor</td>\n",
              "      <td>6.2</td>\n",
              "      <td>6</td>\n",
              "      <td>60</td>\n",
              "      <td>8</td>\n",
              "      <td>Normal</td>\n",
              "      <td>125/80</td>\n",
              "      <td>75</td>\n",
              "      <td>10000</td>\n",
              "      <td>None</td>\n",
              "    </tr>\n",
              "    <tr>\n",
              "      <th>2</th>\n",
              "      <td>3</td>\n",
              "      <td>Male</td>\n",
              "      <td>28</td>\n",
              "      <td>Doctor</td>\n",
              "      <td>6.2</td>\n",
              "      <td>6</td>\n",
              "      <td>60</td>\n",
              "      <td>8</td>\n",
              "      <td>Normal</td>\n",
              "      <td>125/80</td>\n",
              "      <td>75</td>\n",
              "      <td>10000</td>\n",
              "      <td>None</td>\n",
              "    </tr>\n",
              "    <tr>\n",
              "      <th>3</th>\n",
              "      <td>4</td>\n",
              "      <td>Male</td>\n",
              "      <td>28</td>\n",
              "      <td>Sales Representative</td>\n",
              "      <td>5.9</td>\n",
              "      <td>4</td>\n",
              "      <td>30</td>\n",
              "      <td>8</td>\n",
              "      <td>Obese</td>\n",
              "      <td>140/90</td>\n",
              "      <td>85</td>\n",
              "      <td>3000</td>\n",
              "      <td>Sleep Apnea</td>\n",
              "    </tr>\n",
              "    <tr>\n",
              "      <th>4</th>\n",
              "      <td>5</td>\n",
              "      <td>Male</td>\n",
              "      <td>28</td>\n",
              "      <td>Sales Representative</td>\n",
              "      <td>5.9</td>\n",
              "      <td>4</td>\n",
              "      <td>30</td>\n",
              "      <td>8</td>\n",
              "      <td>Obese</td>\n",
              "      <td>140/90</td>\n",
              "      <td>85</td>\n",
              "      <td>3000</td>\n",
              "      <td>Sleep Apnea</td>\n",
              "    </tr>\n",
              "  </tbody>\n",
              "</table>\n",
              "</div>\n",
              "      <button class=\"colab-df-convert\" onclick=\"convertToInteractive('df-a0e71fbb-d279-4161-8004-cd6f63fc138a')\"\n",
              "              title=\"Convert this dataframe to an interactive table.\"\n",
              "              style=\"display:none;\">\n",
              "\n",
              "  <svg xmlns=\"http://www.w3.org/2000/svg\" height=\"24px\"viewBox=\"0 0 24 24\"\n",
              "       width=\"24px\">\n",
              "    <path d=\"M0 0h24v24H0V0z\" fill=\"none\"/>\n",
              "    <path d=\"M18.56 5.44l.94 2.06.94-2.06 2.06-.94-2.06-.94-.94-2.06-.94 2.06-2.06.94zm-11 1L8.5 8.5l.94-2.06 2.06-.94-2.06-.94L8.5 2.5l-.94 2.06-2.06.94zm10 10l.94 2.06.94-2.06 2.06-.94-2.06-.94-.94-2.06-.94 2.06-2.06.94z\"/><path d=\"M17.41 7.96l-1.37-1.37c-.4-.4-.92-.59-1.43-.59-.52 0-1.04.2-1.43.59L10.3 9.45l-7.72 7.72c-.78.78-.78 2.05 0 2.83L4 21.41c.39.39.9.59 1.41.59.51 0 1.02-.2 1.41-.59l7.78-7.78 2.81-2.81c.8-.78.8-2.07 0-2.86zM5.41 20L4 18.59l7.72-7.72 1.47 1.35L5.41 20z\"/>\n",
              "  </svg>\n",
              "      </button>\n",
              "\n",
              "\n",
              "\n",
              "    <div id=\"df-d0815eab-6a86-4dd7-a33c-062cab86fc01\">\n",
              "      <button class=\"colab-df-quickchart\" onclick=\"quickchart('df-d0815eab-6a86-4dd7-a33c-062cab86fc01')\"\n",
              "              title=\"Suggest charts.\"\n",
              "              style=\"display:none;\">\n",
              "\n",
              "<svg xmlns=\"http://www.w3.org/2000/svg\" height=\"24px\"viewBox=\"0 0 24 24\"\n",
              "     width=\"24px\">\n",
              "    <g>\n",
              "        <path d=\"M19 3H5c-1.1 0-2 .9-2 2v14c0 1.1.9 2 2 2h14c1.1 0 2-.9 2-2V5c0-1.1-.9-2-2-2zM9 17H7v-7h2v7zm4 0h-2V7h2v10zm4 0h-2v-4h2v4z\"/>\n",
              "    </g>\n",
              "</svg>\n",
              "      </button>\n",
              "    </div>\n",
              "\n",
              "<style>\n",
              "  .colab-df-quickchart {\n",
              "    background-color: #E8F0FE;\n",
              "    border: none;\n",
              "    border-radius: 50%;\n",
              "    cursor: pointer;\n",
              "    display: none;\n",
              "    fill: #1967D2;\n",
              "    height: 32px;\n",
              "    padding: 0 0 0 0;\n",
              "    width: 32px;\n",
              "  }\n",
              "\n",
              "  .colab-df-quickchart:hover {\n",
              "    background-color: #E2EBFA;\n",
              "    box-shadow: 0px 1px 2px rgba(60, 64, 67, 0.3), 0px 1px 3px 1px rgba(60, 64, 67, 0.15);\n",
              "    fill: #174EA6;\n",
              "  }\n",
              "\n",
              "  [theme=dark] .colab-df-quickchart {\n",
              "    background-color: #3B4455;\n",
              "    fill: #D2E3FC;\n",
              "  }\n",
              "\n",
              "  [theme=dark] .colab-df-quickchart:hover {\n",
              "    background-color: #434B5C;\n",
              "    box-shadow: 0px 1px 3px 1px rgba(0, 0, 0, 0.15);\n",
              "    filter: drop-shadow(0px 1px 2px rgba(0, 0, 0, 0.3));\n",
              "    fill: #FFFFFF;\n",
              "  }\n",
              "</style>\n",
              "\n",
              "    <script>\n",
              "      async function quickchart(key) {\n",
              "        const containerElement = document.querySelector('#' + key);\n",
              "        const charts = await google.colab.kernel.invokeFunction(\n",
              "            'suggestCharts', [key], {});\n",
              "      }\n",
              "    </script>\n",
              "\n",
              "      <script>\n",
              "\n",
              "function displayQuickchartButton(domScope) {\n",
              "  let quickchartButtonEl =\n",
              "    domScope.querySelector('#df-d0815eab-6a86-4dd7-a33c-062cab86fc01 button.colab-df-quickchart');\n",
              "  quickchartButtonEl.style.display =\n",
              "    google.colab.kernel.accessAllowed ? 'block' : 'none';\n",
              "}\n",
              "\n",
              "        displayQuickchartButton(document);\n",
              "      </script>\n",
              "      <style>\n",
              "    .colab-df-container {\n",
              "      display:flex;\n",
              "      flex-wrap:wrap;\n",
              "      gap: 12px;\n",
              "    }\n",
              "\n",
              "    .colab-df-convert {\n",
              "      background-color: #E8F0FE;\n",
              "      border: none;\n",
              "      border-radius: 50%;\n",
              "      cursor: pointer;\n",
              "      display: none;\n",
              "      fill: #1967D2;\n",
              "      height: 32px;\n",
              "      padding: 0 0 0 0;\n",
              "      width: 32px;\n",
              "    }\n",
              "\n",
              "    .colab-df-convert:hover {\n",
              "      background-color: #E2EBFA;\n",
              "      box-shadow: 0px 1px 2px rgba(60, 64, 67, 0.3), 0px 1px 3px 1px rgba(60, 64, 67, 0.15);\n",
              "      fill: #174EA6;\n",
              "    }\n",
              "\n",
              "    [theme=dark] .colab-df-convert {\n",
              "      background-color: #3B4455;\n",
              "      fill: #D2E3FC;\n",
              "    }\n",
              "\n",
              "    [theme=dark] .colab-df-convert:hover {\n",
              "      background-color: #434B5C;\n",
              "      box-shadow: 0px 1px 3px 1px rgba(0, 0, 0, 0.15);\n",
              "      filter: drop-shadow(0px 1px 2px rgba(0, 0, 0, 0.3));\n",
              "      fill: #FFFFFF;\n",
              "    }\n",
              "  </style>\n",
              "\n",
              "      <script>\n",
              "        const buttonEl =\n",
              "          document.querySelector('#df-a0e71fbb-d279-4161-8004-cd6f63fc138a button.colab-df-convert');\n",
              "        buttonEl.style.display =\n",
              "          google.colab.kernel.accessAllowed ? 'block' : 'none';\n",
              "\n",
              "        async function convertToInteractive(key) {\n",
              "          const element = document.querySelector('#df-a0e71fbb-d279-4161-8004-cd6f63fc138a');\n",
              "          const dataTable =\n",
              "            await google.colab.kernel.invokeFunction('convertToInteractive',\n",
              "                                                     [key], {});\n",
              "          if (!dataTable) return;\n",
              "\n",
              "          const docLinkHtml = 'Like what you see? Visit the ' +\n",
              "            '<a target=\"_blank\" href=https://colab.research.google.com/notebooks/data_table.ipynb>data table notebook</a>'\n",
              "            + ' to learn more about interactive tables.';\n",
              "          element.innerHTML = '';\n",
              "          dataTable['output_type'] = 'display_data';\n",
              "          await google.colab.output.renderOutput(dataTable, element);\n",
              "          const docLink = document.createElement('div');\n",
              "          docLink.innerHTML = docLinkHtml;\n",
              "          element.appendChild(docLink);\n",
              "        }\n",
              "      </script>\n",
              "    </div>\n",
              "  </div>\n"
            ]
          },
          "metadata": {},
          "execution_count": 65
        }
      ]
    },
    {
      "cell_type": "code",
      "source": [
        "df.info()"
      ],
      "metadata": {
        "execution": {
          "iopub.status.busy": "2023-07-11T22:11:22.221778Z",
          "iopub.execute_input": "2023-07-11T22:11:22.222163Z",
          "iopub.status.idle": "2023-07-11T22:11:22.251835Z",
          "shell.execute_reply.started": "2023-07-11T22:11:22.222135Z",
          "shell.execute_reply": "2023-07-11T22:11:22.250299Z"
        },
        "_kg_hide-input": true,
        "trusted": true,
        "colab": {
          "base_uri": "https://localhost:8080/"
        },
        "id": "SmbWL84qJIe8",
        "outputId": "6e371163-6764-4709-9e31-0ea8bfe84287"
      },
      "execution_count": null,
      "outputs": [
        {
          "output_type": "stream",
          "name": "stdout",
          "text": [
            "<class 'pandas.core.frame.DataFrame'>\n",
            "RangeIndex: 374 entries, 0 to 373\n",
            "Data columns (total 13 columns):\n",
            " #   Column                   Non-Null Count  Dtype  \n",
            "---  ------                   --------------  -----  \n",
            " 0   Person ID                374 non-null    int64  \n",
            " 1   Gender                   374 non-null    object \n",
            " 2   Age                      374 non-null    int64  \n",
            " 3   Occupation               374 non-null    object \n",
            " 4   Sleep Duration           374 non-null    float64\n",
            " 5   Quality of Sleep         374 non-null    int64  \n",
            " 6   Physical Activity Level  374 non-null    int64  \n",
            " 7   Stress Level             374 non-null    int64  \n",
            " 8   BMI Category             374 non-null    object \n",
            " 9   Blood Pressure           374 non-null    object \n",
            " 10  Heart Rate               374 non-null    int64  \n",
            " 11  Daily Steps              374 non-null    int64  \n",
            " 12  Sleep Disorder           374 non-null    object \n",
            "dtypes: float64(1), int64(7), object(5)\n",
            "memory usage: 38.1+ KB\n"
          ]
        }
      ]
    },
    {
      "cell_type": "code",
      "source": [
        "df.describe()"
      ],
      "metadata": {
        "execution": {
          "iopub.status.busy": "2023-07-11T22:11:22.430932Z",
          "iopub.execute_input": "2023-07-11T22:11:22.431440Z",
          "iopub.status.idle": "2023-07-11T22:11:22.483716Z",
          "shell.execute_reply.started": "2023-07-11T22:11:22.431405Z",
          "shell.execute_reply": "2023-07-11T22:11:22.482522Z"
        },
        "_kg_hide-input": true,
        "trusted": true,
        "colab": {
          "base_uri": "https://localhost:8080/",
          "height": 362
        },
        "id": "BdJkEMGPJIe8",
        "outputId": "5d16a186-32b6-40f7-91f3-06527ea60b03"
      },
      "execution_count": null,
      "outputs": [
        {
          "output_type": "execute_result",
          "data": {
            "text/plain": [
              "        Person ID         Age  Sleep Duration  Quality of Sleep  \\\n",
              "count  374.000000  374.000000      374.000000        374.000000   \n",
              "mean   187.500000   42.184492        7.132086          7.312834   \n",
              "std    108.108742    8.673133        0.795657          1.196956   \n",
              "min      1.000000   27.000000        5.800000          4.000000   \n",
              "25%     94.250000   35.250000        6.400000          6.000000   \n",
              "50%    187.500000   43.000000        7.200000          7.000000   \n",
              "75%    280.750000   50.000000        7.800000          8.000000   \n",
              "max    374.000000   59.000000        8.500000          9.000000   \n",
              "\n",
              "       Physical Activity Level  Stress Level  Heart Rate   Daily Steps  \n",
              "count               374.000000    374.000000  374.000000    374.000000  \n",
              "mean                 59.171123      5.385027   70.165775   6816.844920  \n",
              "std                  20.830804      1.774526    4.135676   1617.915679  \n",
              "min                  30.000000      3.000000   65.000000   3000.000000  \n",
              "25%                  45.000000      4.000000   68.000000   5600.000000  \n",
              "50%                  60.000000      5.000000   70.000000   7000.000000  \n",
              "75%                  75.000000      7.000000   72.000000   8000.000000  \n",
              "max                  90.000000      8.000000   86.000000  10000.000000  "
            ],
            "text/html": [
              "\n",
              "\n",
              "  <div id=\"df-3effe154-2db9-41dd-88b0-619c481c122b\">\n",
              "    <div class=\"colab-df-container\">\n",
              "      <div>\n",
              "<style scoped>\n",
              "    .dataframe tbody tr th:only-of-type {\n",
              "        vertical-align: middle;\n",
              "    }\n",
              "\n",
              "    .dataframe tbody tr th {\n",
              "        vertical-align: top;\n",
              "    }\n",
              "\n",
              "    .dataframe thead th {\n",
              "        text-align: right;\n",
              "    }\n",
              "</style>\n",
              "<table border=\"1\" class=\"dataframe\">\n",
              "  <thead>\n",
              "    <tr style=\"text-align: right;\">\n",
              "      <th></th>\n",
              "      <th>Person ID</th>\n",
              "      <th>Age</th>\n",
              "      <th>Sleep Duration</th>\n",
              "      <th>Quality of Sleep</th>\n",
              "      <th>Physical Activity Level</th>\n",
              "      <th>Stress Level</th>\n",
              "      <th>Heart Rate</th>\n",
              "      <th>Daily Steps</th>\n",
              "    </tr>\n",
              "  </thead>\n",
              "  <tbody>\n",
              "    <tr>\n",
              "      <th>count</th>\n",
              "      <td>374.000000</td>\n",
              "      <td>374.000000</td>\n",
              "      <td>374.000000</td>\n",
              "      <td>374.000000</td>\n",
              "      <td>374.000000</td>\n",
              "      <td>374.000000</td>\n",
              "      <td>374.000000</td>\n",
              "      <td>374.000000</td>\n",
              "    </tr>\n",
              "    <tr>\n",
              "      <th>mean</th>\n",
              "      <td>187.500000</td>\n",
              "      <td>42.184492</td>\n",
              "      <td>7.132086</td>\n",
              "      <td>7.312834</td>\n",
              "      <td>59.171123</td>\n",
              "      <td>5.385027</td>\n",
              "      <td>70.165775</td>\n",
              "      <td>6816.844920</td>\n",
              "    </tr>\n",
              "    <tr>\n",
              "      <th>std</th>\n",
              "      <td>108.108742</td>\n",
              "      <td>8.673133</td>\n",
              "      <td>0.795657</td>\n",
              "      <td>1.196956</td>\n",
              "      <td>20.830804</td>\n",
              "      <td>1.774526</td>\n",
              "      <td>4.135676</td>\n",
              "      <td>1617.915679</td>\n",
              "    </tr>\n",
              "    <tr>\n",
              "      <th>min</th>\n",
              "      <td>1.000000</td>\n",
              "      <td>27.000000</td>\n",
              "      <td>5.800000</td>\n",
              "      <td>4.000000</td>\n",
              "      <td>30.000000</td>\n",
              "      <td>3.000000</td>\n",
              "      <td>65.000000</td>\n",
              "      <td>3000.000000</td>\n",
              "    </tr>\n",
              "    <tr>\n",
              "      <th>25%</th>\n",
              "      <td>94.250000</td>\n",
              "      <td>35.250000</td>\n",
              "      <td>6.400000</td>\n",
              "      <td>6.000000</td>\n",
              "      <td>45.000000</td>\n",
              "      <td>4.000000</td>\n",
              "      <td>68.000000</td>\n",
              "      <td>5600.000000</td>\n",
              "    </tr>\n",
              "    <tr>\n",
              "      <th>50%</th>\n",
              "      <td>187.500000</td>\n",
              "      <td>43.000000</td>\n",
              "      <td>7.200000</td>\n",
              "      <td>7.000000</td>\n",
              "      <td>60.000000</td>\n",
              "      <td>5.000000</td>\n",
              "      <td>70.000000</td>\n",
              "      <td>7000.000000</td>\n",
              "    </tr>\n",
              "    <tr>\n",
              "      <th>75%</th>\n",
              "      <td>280.750000</td>\n",
              "      <td>50.000000</td>\n",
              "      <td>7.800000</td>\n",
              "      <td>8.000000</td>\n",
              "      <td>75.000000</td>\n",
              "      <td>7.000000</td>\n",
              "      <td>72.000000</td>\n",
              "      <td>8000.000000</td>\n",
              "    </tr>\n",
              "    <tr>\n",
              "      <th>max</th>\n",
              "      <td>374.000000</td>\n",
              "      <td>59.000000</td>\n",
              "      <td>8.500000</td>\n",
              "      <td>9.000000</td>\n",
              "      <td>90.000000</td>\n",
              "      <td>8.000000</td>\n",
              "      <td>86.000000</td>\n",
              "      <td>10000.000000</td>\n",
              "    </tr>\n",
              "  </tbody>\n",
              "</table>\n",
              "</div>\n",
              "      <button class=\"colab-df-convert\" onclick=\"convertToInteractive('df-3effe154-2db9-41dd-88b0-619c481c122b')\"\n",
              "              title=\"Convert this dataframe to an interactive table.\"\n",
              "              style=\"display:none;\">\n",
              "\n",
              "  <svg xmlns=\"http://www.w3.org/2000/svg\" height=\"24px\"viewBox=\"0 0 24 24\"\n",
              "       width=\"24px\">\n",
              "    <path d=\"M0 0h24v24H0V0z\" fill=\"none\"/>\n",
              "    <path d=\"M18.56 5.44l.94 2.06.94-2.06 2.06-.94-2.06-.94-.94-2.06-.94 2.06-2.06.94zm-11 1L8.5 8.5l.94-2.06 2.06-.94-2.06-.94L8.5 2.5l-.94 2.06-2.06.94zm10 10l.94 2.06.94-2.06 2.06-.94-2.06-.94-.94-2.06-.94 2.06-2.06.94z\"/><path d=\"M17.41 7.96l-1.37-1.37c-.4-.4-.92-.59-1.43-.59-.52 0-1.04.2-1.43.59L10.3 9.45l-7.72 7.72c-.78.78-.78 2.05 0 2.83L4 21.41c.39.39.9.59 1.41.59.51 0 1.02-.2 1.41-.59l7.78-7.78 2.81-2.81c.8-.78.8-2.07 0-2.86zM5.41 20L4 18.59l7.72-7.72 1.47 1.35L5.41 20z\"/>\n",
              "  </svg>\n",
              "      </button>\n",
              "\n",
              "\n",
              "\n",
              "    <div id=\"df-d98ae530-6eec-475c-803d-c29cdd4c877a\">\n",
              "      <button class=\"colab-df-quickchart\" onclick=\"quickchart('df-d98ae530-6eec-475c-803d-c29cdd4c877a')\"\n",
              "              title=\"Suggest charts.\"\n",
              "              style=\"display:none;\">\n",
              "\n",
              "<svg xmlns=\"http://www.w3.org/2000/svg\" height=\"24px\"viewBox=\"0 0 24 24\"\n",
              "     width=\"24px\">\n",
              "    <g>\n",
              "        <path d=\"M19 3H5c-1.1 0-2 .9-2 2v14c0 1.1.9 2 2 2h14c1.1 0 2-.9 2-2V5c0-1.1-.9-2-2-2zM9 17H7v-7h2v7zm4 0h-2V7h2v10zm4 0h-2v-4h2v4z\"/>\n",
              "    </g>\n",
              "</svg>\n",
              "      </button>\n",
              "    </div>\n",
              "\n",
              "<style>\n",
              "  .colab-df-quickchart {\n",
              "    background-color: #E8F0FE;\n",
              "    border: none;\n",
              "    border-radius: 50%;\n",
              "    cursor: pointer;\n",
              "    display: none;\n",
              "    fill: #1967D2;\n",
              "    height: 32px;\n",
              "    padding: 0 0 0 0;\n",
              "    width: 32px;\n",
              "  }\n",
              "\n",
              "  .colab-df-quickchart:hover {\n",
              "    background-color: #E2EBFA;\n",
              "    box-shadow: 0px 1px 2px rgba(60, 64, 67, 0.3), 0px 1px 3px 1px rgba(60, 64, 67, 0.15);\n",
              "    fill: #174EA6;\n",
              "  }\n",
              "\n",
              "  [theme=dark] .colab-df-quickchart {\n",
              "    background-color: #3B4455;\n",
              "    fill: #D2E3FC;\n",
              "  }\n",
              "\n",
              "  [theme=dark] .colab-df-quickchart:hover {\n",
              "    background-color: #434B5C;\n",
              "    box-shadow: 0px 1px 3px 1px rgba(0, 0, 0, 0.15);\n",
              "    filter: drop-shadow(0px 1px 2px rgba(0, 0, 0, 0.3));\n",
              "    fill: #FFFFFF;\n",
              "  }\n",
              "</style>\n",
              "\n",
              "    <script>\n",
              "      async function quickchart(key) {\n",
              "        const containerElement = document.querySelector('#' + key);\n",
              "        const charts = await google.colab.kernel.invokeFunction(\n",
              "            'suggestCharts', [key], {});\n",
              "      }\n",
              "    </script>\n",
              "\n",
              "      <script>\n",
              "\n",
              "function displayQuickchartButton(domScope) {\n",
              "  let quickchartButtonEl =\n",
              "    domScope.querySelector('#df-d98ae530-6eec-475c-803d-c29cdd4c877a button.colab-df-quickchart');\n",
              "  quickchartButtonEl.style.display =\n",
              "    google.colab.kernel.accessAllowed ? 'block' : 'none';\n",
              "}\n",
              "\n",
              "        displayQuickchartButton(document);\n",
              "      </script>\n",
              "      <style>\n",
              "    .colab-df-container {\n",
              "      display:flex;\n",
              "      flex-wrap:wrap;\n",
              "      gap: 12px;\n",
              "    }\n",
              "\n",
              "    .colab-df-convert {\n",
              "      background-color: #E8F0FE;\n",
              "      border: none;\n",
              "      border-radius: 50%;\n",
              "      cursor: pointer;\n",
              "      display: none;\n",
              "      fill: #1967D2;\n",
              "      height: 32px;\n",
              "      padding: 0 0 0 0;\n",
              "      width: 32px;\n",
              "    }\n",
              "\n",
              "    .colab-df-convert:hover {\n",
              "      background-color: #E2EBFA;\n",
              "      box-shadow: 0px 1px 2px rgba(60, 64, 67, 0.3), 0px 1px 3px 1px rgba(60, 64, 67, 0.15);\n",
              "      fill: #174EA6;\n",
              "    }\n",
              "\n",
              "    [theme=dark] .colab-df-convert {\n",
              "      background-color: #3B4455;\n",
              "      fill: #D2E3FC;\n",
              "    }\n",
              "\n",
              "    [theme=dark] .colab-df-convert:hover {\n",
              "      background-color: #434B5C;\n",
              "      box-shadow: 0px 1px 3px 1px rgba(0, 0, 0, 0.15);\n",
              "      filter: drop-shadow(0px 1px 2px rgba(0, 0, 0, 0.3));\n",
              "      fill: #FFFFFF;\n",
              "    }\n",
              "  </style>\n",
              "\n",
              "      <script>\n",
              "        const buttonEl =\n",
              "          document.querySelector('#df-3effe154-2db9-41dd-88b0-619c481c122b button.colab-df-convert');\n",
              "        buttonEl.style.display =\n",
              "          google.colab.kernel.accessAllowed ? 'block' : 'none';\n",
              "\n",
              "        async function convertToInteractive(key) {\n",
              "          const element = document.querySelector('#df-3effe154-2db9-41dd-88b0-619c481c122b');\n",
              "          const dataTable =\n",
              "            await google.colab.kernel.invokeFunction('convertToInteractive',\n",
              "                                                     [key], {});\n",
              "          if (!dataTable) return;\n",
              "\n",
              "          const docLinkHtml = 'Like what you see? Visit the ' +\n",
              "            '<a target=\"_blank\" href=https://colab.research.google.com/notebooks/data_table.ipynb>data table notebook</a>'\n",
              "            + ' to learn more about interactive tables.';\n",
              "          element.innerHTML = '';\n",
              "          dataTable['output_type'] = 'display_data';\n",
              "          await google.colab.output.renderOutput(dataTable, element);\n",
              "          const docLink = document.createElement('div');\n",
              "          docLink.innerHTML = docLinkHtml;\n",
              "          element.appendChild(docLink);\n",
              "        }\n",
              "      </script>\n",
              "    </div>\n",
              "  </div>\n"
            ]
          },
          "metadata": {},
          "execution_count": 67
        }
      ]
    },
    {
      "cell_type": "code",
      "source": [
        "df.dtypes"
      ],
      "metadata": {
        "execution": {
          "iopub.status.busy": "2023-07-11T22:11:22.769470Z",
          "iopub.execute_input": "2023-07-11T22:11:22.770214Z",
          "iopub.status.idle": "2023-07-11T22:11:22.781442Z",
          "shell.execute_reply.started": "2023-07-11T22:11:22.770157Z",
          "shell.execute_reply": "2023-07-11T22:11:22.779739Z"
        },
        "_kg_hide-input": true,
        "trusted": true,
        "colab": {
          "base_uri": "https://localhost:8080/"
        },
        "id": "jkcwvjtVJIe9",
        "outputId": "0f2ad465-2ff6-461f-ea84-8e73792cfcf9"
      },
      "execution_count": null,
      "outputs": [
        {
          "output_type": "execute_result",
          "data": {
            "text/plain": [
              "Person ID                    int64\n",
              "Gender                      object\n",
              "Age                          int64\n",
              "Occupation                  object\n",
              "Sleep Duration             float64\n",
              "Quality of Sleep             int64\n",
              "Physical Activity Level      int64\n",
              "Stress Level                 int64\n",
              "BMI Category                object\n",
              "Blood Pressure              object\n",
              "Heart Rate                   int64\n",
              "Daily Steps                  int64\n",
              "Sleep Disorder              object\n",
              "dtype: object"
            ]
          },
          "metadata": {},
          "execution_count": 68
        }
      ]
    },
    {
      "cell_type": "code",
      "source": [
        "(df.isnull().sum()/len(df))"
      ],
      "metadata": {
        "execution": {
          "iopub.status.busy": "2023-07-11T22:11:24.128902Z",
          "iopub.execute_input": "2023-07-11T22:11:24.130007Z",
          "iopub.status.idle": "2023-07-11T22:11:24.142322Z",
          "shell.execute_reply.started": "2023-07-11T22:11:24.129960Z",
          "shell.execute_reply": "2023-07-11T22:11:24.141068Z"
        },
        "_kg_hide-input": true,
        "trusted": true,
        "colab": {
          "base_uri": "https://localhost:8080/"
        },
        "id": "W587deaNJIe9",
        "outputId": "45cc0c16-59ec-49e8-8e08-e27d0bfbe45a"
      },
      "execution_count": null,
      "outputs": [
        {
          "output_type": "execute_result",
          "data": {
            "text/plain": [
              "Person ID                  0.0\n",
              "Gender                     0.0\n",
              "Age                        0.0\n",
              "Occupation                 0.0\n",
              "Sleep Duration             0.0\n",
              "Quality of Sleep           0.0\n",
              "Physical Activity Level    0.0\n",
              "Stress Level               0.0\n",
              "BMI Category               0.0\n",
              "Blood Pressure             0.0\n",
              "Heart Rate                 0.0\n",
              "Daily Steps                0.0\n",
              "Sleep Disorder             0.0\n",
              "dtype: float64"
            ]
          },
          "metadata": {},
          "execution_count": 69
        }
      ]
    },
    {
      "cell_type": "markdown",
      "source": [
        "## <font color='yellow'> 2.Building models. </font>"
      ],
      "metadata": {
        "id": "aeik0iNeJIfR"
      }
    },
    {
      "cell_type": "markdown",
      "source": [
        "###In this step, we will exclude the Person ID variable as it serves no purpose in the models."
      ],
      "metadata": {
        "id": "0FR3naDcJIfR"
      }
    },
    {
      "cell_type": "code",
      "source": [
        "df = df.drop('Person ID', axis = 1)"
      ],
      "metadata": {
        "execution": {
          "iopub.status.busy": "2023-07-11T22:35:44.955232Z",
          "iopub.execute_input": "2023-07-11T22:35:44.955652Z",
          "iopub.status.idle": "2023-07-11T22:35:44.963692Z",
          "shell.execute_reply.started": "2023-07-11T22:35:44.955624Z",
          "shell.execute_reply": "2023-07-11T22:35:44.962695Z"
        },
        "trusted": true,
        "id": "GBSKd-O5JIfR"
      },
      "execution_count": null,
      "outputs": []
    },
    {
      "cell_type": "markdown",
      "source": [
        "#### OneHot Label Encoder"
      ],
      "metadata": {
        "id": "7j3pkA6nJIfS"
      }
    },
    {
      "cell_type": "code",
      "source": [
        "hot = pd.get_dummies(df[['Gender', 'Occupation', 'BMI Category', 'Blood Pressure']])\n",
        "df = pd.concat([df, hot], axis = 1)\n",
        "df = df.drop(['Gender', 'Occupation', 'BMI Category', 'Blood Pressure'], axis = 1)"
      ],
      "metadata": {
        "execution": {
          "iopub.status.busy": "2023-07-11T22:49:55.833350Z",
          "iopub.execute_input": "2023-07-11T22:49:55.833789Z",
          "iopub.status.idle": "2023-07-11T22:49:55.852953Z",
          "shell.execute_reply.started": "2023-07-11T22:49:55.833759Z",
          "shell.execute_reply": "2023-07-11T22:49:55.851682Z"
        },
        "trusted": true,
        "id": "pIsyKGLYJIfS"
      },
      "execution_count": null,
      "outputs": []
    },
    {
      "cell_type": "markdown",
      "source": [
        "#### Separating into features variables and target variable."
      ],
      "metadata": {
        "id": "clsHdysQJIfT"
      }
    },
    {
      "cell_type": "code",
      "source": [
        "X = df.drop('Sleep Disorder', axis = 1)\n",
        "X = X.values\n",
        "y = df['Sleep Disorder']"
      ],
      "metadata": {
        "execution": {
          "iopub.status.busy": "2023-07-11T22:49:56.991610Z",
          "iopub.execute_input": "2023-07-11T22:49:56.992303Z",
          "iopub.status.idle": "2023-07-11T22:49:57.002598Z",
          "shell.execute_reply.started": "2023-07-11T22:49:56.992271Z",
          "shell.execute_reply": "2023-07-11T22:49:57.000860Z"
        },
        "trusted": true,
        "id": "SRYOKffCJIfT"
      },
      "execution_count": null,
      "outputs": []
    },
    {
      "cell_type": "markdown",
      "source": [
        "#### StandardScaler\n",
        "- Here we will use StandardScaler to put our data in the same scale."
      ],
      "metadata": {
        "id": "F8UGc-PRJIfT"
      }
    },
    {
      "cell_type": "code",
      "source": [
        "from sklearn.preprocessing import StandardScaler\n",
        "scaler = StandardScaler()\n",
        "X_standard = scaler.fit_transform(X)"
      ],
      "metadata": {
        "execution": {
          "iopub.status.busy": "2023-07-11T22:50:10.793068Z",
          "iopub.execute_input": "2023-07-11T22:50:10.793532Z",
          "iopub.status.idle": "2023-07-11T22:50:10.801864Z",
          "shell.execute_reply.started": "2023-07-11T22:50:10.793498Z",
          "shell.execute_reply": "2023-07-11T22:50:10.800488Z"
        },
        "trusted": true,
        "id": "ls873Tp8JIfU"
      },
      "execution_count": null,
      "outputs": []
    },
    {
      "cell_type": "markdown",
      "source": [
        "#### Transforming Data into Train e Test, here we will use 30% of our data to test the machine learning models."
      ],
      "metadata": {
        "id": "Bpz7sK6cJIfU"
      }
    },
    {
      "cell_type": "code",
      "source": [
        "from sklearn.model_selection import train_test_split\n",
        "X_train,X_test, y_train, y_test = train_test_split(X_standard, y, test_size = 0.3, random_state = 0)"
      ],
      "metadata": {
        "execution": {
          "iopub.status.busy": "2023-07-11T22:53:26.011066Z",
          "iopub.execute_input": "2023-07-11T22:53:26.012224Z",
          "iopub.status.idle": "2023-07-11T22:53:26.019446Z",
          "shell.execute_reply.started": "2023-07-11T22:53:26.012167Z",
          "shell.execute_reply": "2023-07-11T22:53:26.018414Z"
        },
        "trusted": true,
        "id": "I_C0wS5aJIfU"
      },
      "execution_count": null,
      "outputs": []
    },
    {
      "cell_type": "markdown",
      "source": [
        "#### Naive Bayes\n",
        "- Running Gaussian Model.\n",
        "- Here we will use the Naive Bayes Model, we will test Gaussian model, using our Normal Data."
      ],
      "metadata": {
        "id": "jcw2lrZgJIfV"
      }
    },
    {
      "cell_type": "markdown",
      "source": [
        "###In our initial model, the outcome was quite unsatisfactory, achieving only 53% accuracy. Although it performed well in predicting individuals with problems, its performance was notably poor in predicting those without any issues."
      ],
      "metadata": {
        "id": "BbL9hrO_JIfV"
      }
    },
    {
      "cell_type": "code",
      "source": [
        "from sklearn.naive_bayes import GaussianNB\n",
        "naive_bayes = GaussianNB()\n",
        "naive_bayes.fit(X_train, y_train)\n",
        "previsoes = naive_bayes.predict(X_test)\n",
        "\n",
        "cm = ConfusionMatrix(naive_bayes)\n",
        "cm.fit(X_train, y_train)\n",
        "cm.score(X_test, y_test)"
      ],
      "metadata": {
        "execution": {
          "iopub.status.busy": "2023-07-11T23:06:06.823824Z",
          "iopub.execute_input": "2023-07-11T23:06:06.824295Z",
          "iopub.status.idle": "2023-07-11T23:06:07.027315Z",
          "shell.execute_reply.started": "2023-07-11T23:06:06.824264Z",
          "shell.execute_reply": "2023-07-11T23:06:07.026069Z"
        },
        "_kg_hide-input": true,
        "trusted": true,
        "colab": {
          "base_uri": "https://localhost:8080/",
          "height": 581
        },
        "id": "RkPROAVdJIfV",
        "outputId": "440b6f33-c1f2-4965-8b43-bb043da05df5"
      },
      "execution_count": null,
      "outputs": [
        {
          "output_type": "execute_result",
          "data": {
            "text/plain": [
              "0.5309734513274337"
            ]
          },
          "metadata": {},
          "execution_count": 75
        },
        {
          "output_type": "display_data",
          "data": {
            "text/plain": [
              "<Figure size 800x550 with 1 Axes>"
            ],
            "image/png": "[encoded data removed]"
          },
          "metadata": {}
        }
      ]
    },
    {
      "cell_type": "code",
      "source": [
        "classification_naive_gaussian = (classification_report(y_test, previsoes))\n",
        "print(classification_naive_gaussian)"
      ],
      "metadata": {
        "execution": {
          "iopub.status.busy": "2023-07-11T23:06:08.343793Z",
          "iopub.execute_input": "2023-07-11T23:06:08.344467Z",
          "iopub.status.idle": "2023-07-11T23:06:08.362017Z",
          "shell.execute_reply.started": "2023-07-11T23:06:08.344433Z",
          "shell.execute_reply": "2023-07-11T23:06:08.360832Z"
        },
        "_kg_hide-input": true,
        "trusted": true,
        "colab": {
          "base_uri": "https://localhost:8080/"
        },
        "id": "1fAGo7KNJIfW",
        "outputId": "558f91fc-3bc2-4fa1-e5d8-69679a99b7d6"
      },
      "execution_count": null,
      "outputs": [
        {
          "output_type": "stream",
          "name": "stdout",
          "text": [
            "              precision    recall  f1-score   support\n",
            "\n",
            "    Insomnia       0.30      0.91      0.45        23\n",
            "        None       0.90      0.29      0.44        66\n",
            " Sleep Apnea       0.91      0.83      0.87        24\n",
            "\n",
            "    accuracy                           0.53       113\n",
            "   macro avg       0.70      0.68      0.59       113\n",
            "weighted avg       0.78      0.53      0.53       113\n",
            "\n"
          ]
        }
      ]
    },
    {
      "cell_type": "code",
      "source": [
        "score_naive_gaussian = cm.score(X_test, y_test)"
      ],
      "metadata": {
        "execution": {
          "iopub.status.busy": "2023-07-11T23:24:58.734351Z",
          "iopub.execute_input": "2023-07-11T23:24:58.735841Z",
          "iopub.status.idle": "2023-07-11T23:24:58.746417Z",
          "shell.execute_reply.started": "2023-07-11T23:24:58.735730Z",
          "shell.execute_reply": "2023-07-11T23:24:58.744622Z"
        },
        "_kg_hide-input": true,
        "trusted": true,
        "id": "4XN3HgOQJIfW"
      },
      "execution_count": null,
      "outputs": []
    },
    {
      "cell_type": "markdown",
      "source": [
        "#### Decision Tree\n",
        "- Here we will use the Decision Tree Model, we will test Entropy and Gini calculations.\n",
        "- Here we are applying GridSearch to check which are the best metrics to use."
      ],
      "metadata": {
        "id": "Hat4bctJJIfX"
      }
    },
    {
      "cell_type": "code",
      "source": [
        "parameters = {'max_depth': [3, 4, 5, 6, 7, 9, 11],\n",
        "              'min_samples_split': [2, 3, 4, 5, 6, 7],\n",
        "              'criterion': ['entropy', 'gini']\n",
        "             }\n",
        "\n",
        "model = DecisionTreeClassifier()\n",
        "gridDecisionTree = RandomizedSearchCV(model, parameters, cv = 3, n_jobs = -1)\n",
        "gridDecisionTree.fit(X_train, y_train)\n",
        "\n",
        "print('Mín Split: ', gridDecisionTree.best_estimator_.min_samples_split)\n",
        "print('Max Nvl: ', gridDecisionTree.best_estimator_.max_depth)\n",
        "print('Algorithm: ', gridDecisionTree.best_estimator_.criterion)\n",
        "print('Score: ', gridDecisionTree.best_score_)"
      ],
      "metadata": {
        "execution": {
          "iopub.status.busy": "2023-07-11T23:06:16.773496Z",
          "iopub.execute_input": "2023-07-11T23:06:16.773879Z",
          "iopub.status.idle": "2023-07-11T23:06:18.964751Z",
          "shell.execute_reply.started": "2023-07-11T23:06:16.773852Z",
          "shell.execute_reply": "2023-07-11T23:06:18.963266Z"
        },
        "_kg_hide-input": true,
        "trusted": true,
        "colab": {
          "base_uri": "https://localhost:8080/"
        },
        "id": "-1XVkEnbJIfX",
        "outputId": "1e3b53a2-b6a4-4650-8b6d-ad67f9018577"
      },
      "execution_count": null,
      "outputs": [
        {
          "output_type": "stream",
          "name": "stdout",
          "text": [
            "Mín Split:  4\n",
            "Max Nvl:  4\n",
            "Algorithm:  gini\n",
            "Score:  0.8850574712643677\n"
          ]
        }
      ]
    },
    {
      "cell_type": "markdown",
      "source": [
        "#### Running Decision Tree."
      ],
      "metadata": {
        "id": "jaiibSYaJIfY"
      }
    },
    {
      "cell_type": "markdown",
      "source": [
        "###Our decision tree model was a huge improvement over Naive Bayes. It reached an 89.38% accuracy and performed really well in predicting all three classes."
      ],
      "metadata": {
        "id": "tjClLTjkJIfY"
      }
    },
    {
      "cell_type": "code",
      "source": [
        "decision_tree = DecisionTreeClassifier(criterion = 'entropy', min_samples_split = 6, max_depth= 6, random_state=0)\n",
        "decision_tree.fit(X_train, y_train)\n",
        "previsoes = decision_tree.predict(X_test)\n",
        "\n",
        "cm = ConfusionMatrix(decision_tree)\n",
        "cm.fit(X_train, y_train)\n",
        "cm.score(X_test, y_test)"
      ],
      "metadata": {
        "execution": {
          "iopub.status.busy": "2023-07-11T23:25:09.701316Z",
          "iopub.execute_input": "2023-07-11T23:25:09.701787Z",
          "iopub.status.idle": "2023-07-11T23:25:10.337892Z",
          "shell.execute_reply.started": "2023-07-11T23:25:09.701754Z",
          "shell.execute_reply": "2023-07-11T23:25:10.336494Z"
        },
        "_kg_hide-input": true,
        "trusted": true,
        "colab": {
          "base_uri": "https://localhost:8080/",
          "height": 581
        },
        "id": "inbX9o2YJIfY",
        "outputId": "63dc55cc-1f28-468f-fd17-b2f188af215d"
      },
      "execution_count": null,
      "outputs": [
        {
          "output_type": "execute_result",
          "data": {
            "text/plain": [
              "0.8938053097345132"
            ]
          },
          "metadata": {},
          "execution_count": 79
        },
        {
          "output_type": "display_data",
          "data": {
            "text/plain": [
              "<Figure size 800x550 with 1 Axes>"
            ],
            "image/png": "[encoded data removed]"
          },
          "metadata": {}
        }
      ]
    },
    {
      "cell_type": "code",
      "source": [
        "classification_decision = (classification_report(y_test, previsoes))\n",
        "print(classification_decision)"
      ],
      "metadata": {
        "_kg_hide-input": true,
        "execution": {
          "iopub.status.busy": "2023-07-11T23:26:16.080301Z",
          "iopub.execute_input": "2023-07-11T23:26:16.080758Z",
          "iopub.status.idle": "2023-07-11T23:26:16.107447Z",
          "shell.execute_reply.started": "2023-07-11T23:26:16.080725Z",
          "shell.execute_reply": "2023-07-11T23:26:16.105663Z"
        },
        "trusted": true,
        "colab": {
          "base_uri": "https://localhost:8080/"
        },
        "id": "BeMkdjUeJIfZ",
        "outputId": "577f77c7-f688-46d6-de55-84ce24fffbc3"
      },
      "execution_count": null,
      "outputs": [
        {
          "output_type": "stream",
          "name": "stdout",
          "text": [
            "              precision    recall  f1-score   support\n",
            "\n",
            "    Insomnia       0.91      0.87      0.89        23\n",
            "        None       0.92      0.92      0.92        66\n",
            " Sleep Apnea       0.80      0.83      0.82        24\n",
            "\n",
            "    accuracy                           0.89       113\n",
            "   macro avg       0.88      0.88      0.88       113\n",
            "weighted avg       0.89      0.89      0.89       113\n",
            "\n"
          ]
        }
      ]
    },
    {
      "cell_type": "code",
      "source": [
        "score_tree = cm.score(X_test, y_test)\n",
        "print(score_tree)"
      ],
      "metadata": {
        "execution": {
          "iopub.status.busy": "2023-07-11T23:26:22.380518Z",
          "iopub.execute_input": "2023-07-11T23:26:22.381041Z",
          "iopub.status.idle": "2023-07-11T23:26:22.393005Z",
          "shell.execute_reply.started": "2023-07-11T23:26:22.380998Z",
          "shell.execute_reply": "2023-07-11T23:26:22.390766Z"
        },
        "_kg_hide-input": true,
        "trusted": true,
        "id": "sItsp4i5JIfa",
        "colab": {
          "base_uri": "https://localhost:8080/"
        },
        "outputId": "edde2031-331d-4fbf-e317-fe8f929fd946"
      },
      "execution_count": null,
      "outputs": [
        {
          "output_type": "stream",
          "name": "stdout",
          "text": [
            "0.8938053097345132\n"
          ]
        }
      ]
    },
    {
      "cell_type": "markdown",
      "source": [
        "#### Checking the most important variables of the model."
      ],
      "metadata": {
        "id": "DZSvdlsKJIfa"
      }
    },
    {
      "cell_type": "code",
      "source": [
        "columns = df.drop('Sleep Disorder', axis = 1).columns\n",
        "feature_imp = pd.Series(decision_tree.feature_importances_, index = columns).sort_values(ascending = False)\n",
        "feature_imp"
      ],
      "metadata": {
        "execution": {
          "iopub.status.busy": "2023-07-11T23:26:27.018273Z",
          "iopub.execute_input": "2023-07-11T23:26:27.018679Z",
          "iopub.status.idle": "2023-07-11T23:26:27.035493Z",
          "shell.execute_reply.started": "2023-07-11T23:26:27.018649Z",
          "shell.execute_reply": "2023-07-11T23:26:27.033172Z"
        },
        "_kg_hide-input": true,
        "trusted": true,
        "colab": {
          "base_uri": "https://localhost:8080/"
        },
        "id": "cAkFQVDnJIfb",
        "outputId": "1fe00c3f-6a32-4219-fd65-f877d9ddc509"
      },
      "execution_count": null,
      "outputs": [
        {
          "output_type": "execute_result",
          "data": {
            "text/plain": [
              "BMI Category_Normal                0.450011\n",
              "Physical Activity Level            0.227875\n",
              "Age                                0.109282\n",
              "BMI Category_Normal Weight         0.090082\n",
              "Sleep Duration                     0.041911\n",
              "Stress Level                       0.038346\n",
              "Blood Pressure_142/92              0.017656\n",
              "Occupation_Teacher                 0.013466\n",
              "Occupation_Lawyer                  0.005720\n",
              "Occupation_Engineer                0.002862\n",
              "Quality of Sleep                   0.002789\n",
              "Gender_Female                      0.000000\n",
              "Blood Pressure_130/85              0.000000\n",
              "Blood Pressure_122/80              0.000000\n",
              "Blood Pressure_125/80              0.000000\n",
              "Blood Pressure_125/82              0.000000\n",
              "Blood Pressure_126/83              0.000000\n",
              "Blood Pressure_128/84              0.000000\n",
              "Blood Pressure_128/85              0.000000\n",
              "Blood Pressure_129/84              0.000000\n",
              "Blood Pressure_130/86              0.000000\n",
              "Blood Pressure_120/80              0.000000\n",
              "Blood Pressure_131/86              0.000000\n",
              "Blood Pressure_132/87              0.000000\n",
              "Blood Pressure_135/88              0.000000\n",
              "Blood Pressure_135/90              0.000000\n",
              "Blood Pressure_139/91              0.000000\n",
              "Blood Pressure_140/90              0.000000\n",
              "Blood Pressure_140/95              0.000000\n",
              "Blood Pressure_121/79              0.000000\n",
              "Blood Pressure_118/76              0.000000\n",
              "Blood Pressure_119/77              0.000000\n",
              "Gender_Male                        0.000000\n",
              "Occupation_Accountant              0.000000\n",
              "Occupation_Doctor                  0.000000\n",
              "Occupation_Manager                 0.000000\n",
              "Occupation_Nurse                   0.000000\n",
              "Occupation_Sales Representative    0.000000\n",
              "Occupation_Salesperson             0.000000\n",
              "Occupation_Scientist               0.000000\n",
              "Occupation_Software Engineer       0.000000\n",
              "Daily Steps                        0.000000\n",
              "Heart Rate                         0.000000\n",
              "BMI Category_Obese                 0.000000\n",
              "BMI Category_Overweight            0.000000\n",
              "Blood Pressure_115/78              0.000000\n",
              "Blood Pressure_117/76              0.000000\n",
              "Blood Pressure_118/75              0.000000\n",
              "Blood Pressure_115/75              0.000000\n",
              "dtype: float64"
            ]
          },
          "metadata": {},
          "execution_count": 82
        }
      ]
    },
    {
      "cell_type": "markdown",
      "source": [
        "#### RandomForest\n",
        "- Here we will use the Random Forest Model, we will test Entropy and Gini calculations.\n",
        "- Applying GridSearch"
      ],
      "metadata": {
        "id": "TUSTqbYOJIfb"
      }
    },
    {
      "cell_type": "code",
      "source": [
        "from sklearn.ensemble import RandomForestClassifier\n",
        "\n",
        "parameters = {'max_depth': [3, 4, 5, 6, 7, 9, 11],\n",
        "              'min_samples_split': [2, 3, 4, 5, 6, 7],\n",
        "              'criterion': ['entropy', 'gini']\n",
        "             }\n",
        "\n",
        "model = RandomForestClassifier()\n",
        "gridRandomForest = RandomizedSearchCV(model, parameters, cv = 5, n_jobs = -1)\n",
        "gridRandomForest.fit(X_train, y_train)\n",
        "\n",
        "print('Algorithm: ', gridRandomForest.best_estimator_.criterion)\n",
        "print('Score: ', gridRandomForest.best_score_)\n",
        "print('Mín Split: ', gridRandomForest.best_estimator_.min_samples_split)\n",
        "print('Max Nvl: ', gridRandomForest.best_estimator_.max_depth)"
      ],
      "metadata": {
        "execution": {
          "iopub.status.busy": "2023-07-11T23:13:19.031421Z",
          "iopub.execute_input": "2023-07-11T23:13:19.031829Z",
          "iopub.status.idle": "2023-07-11T23:13:26.475446Z",
          "shell.execute_reply.started": "2023-07-11T23:13:19.031794Z",
          "shell.execute_reply": "2023-07-11T23:13:26.474265Z"
        },
        "_kg_hide-input": true,
        "trusted": true,
        "colab": {
          "base_uri": "https://localhost:8080/"
        },
        "id": "dD3u9yHSJIfb",
        "outputId": "85a90b0d-2d08-4224-e2cb-930d21647d9d"
      },
      "execution_count": null,
      "outputs": [
        {
          "output_type": "stream",
          "name": "stdout",
          "text": [
            "Algorithm:  entropy\n",
            "Score:  0.907910014513788\n",
            "Mín Split:  4\n",
            "Max Nvl:  7\n"
          ]
        }
      ]
    },
    {
      "cell_type": "markdown",
      "source": [
        "#### Running Random Forest."
      ],
      "metadata": {
        "id": "yhNCEcDiJIfc"
      }
    },
    {
      "cell_type": "markdown",
      "source": [
        "#### In the Random Forest model, we have achieved further improvement, attaining an accuracy of 90.26%."
      ],
      "metadata": {
        "id": "u-WcTZ5dJIfc"
      }
    },
    {
      "cell_type": "code",
      "source": [
        "random_forest = RandomForestClassifier(n_estimators = 100, min_samples_split = 5, max_depth= 5,  criterion = 'gini', random_state = 0)\n",
        "random_forest.fit(X_train, y_train)\n",
        "previsoes = random_forest.predict(X_test)\n",
        "\n",
        "cm = ConfusionMatrix(random_forest)\n",
        "cm.fit(X_train, y_train)\n",
        "cm.score(X_test, y_test)"
      ],
      "metadata": {
        "execution": {
          "iopub.status.busy": "2023-07-11T23:13:34.306497Z",
          "iopub.execute_input": "2023-07-11T23:13:34.306959Z",
          "iopub.status.idle": "2023-07-11T23:13:34.834648Z",
          "shell.execute_reply.started": "2023-07-11T23:13:34.306920Z",
          "shell.execute_reply": "2023-07-11T23:13:34.833140Z"
        },
        "_kg_hide-input": true,
        "trusted": true,
        "colab": {
          "base_uri": "https://localhost:8080/",
          "height": 581
        },
        "id": "W4R-d2oCJIfd",
        "outputId": "e8554386-a677-465e-deb8-af094573c630"
      },
      "execution_count": null,
      "outputs": [
        {
          "output_type": "execute_result",
          "data": {
            "text/plain": [
              "0.9026548672566371"
            ]
          },
          "metadata": {},
          "execution_count": 84
        },
        {
          "output_type": "display_data",
          "data": {
            "text/plain": [
              "<Figure size 800x550 with 1 Axes>"
            ],
            "image/png": "[encoded data removed]"
          },
          "metadata": {}
        }
      ]
    },
    {
      "cell_type": "code",
      "source": [
        "classification_random = (classification_report(y_test, previsoes))\n",
        "print(classification_random)"
      ],
      "metadata": {
        "execution": {
          "iopub.status.busy": "2023-07-11T23:13:37.065993Z",
          "iopub.execute_input": "2023-07-11T23:13:37.066803Z",
          "iopub.status.idle": "2023-07-11T23:13:37.083900Z",
          "shell.execute_reply.started": "2023-07-11T23:13:37.066762Z",
          "shell.execute_reply": "2023-07-11T23:13:37.083029Z"
        },
        "_kg_hide-input": true,
        "trusted": true,
        "colab": {
          "base_uri": "https://localhost:8080/"
        },
        "id": "tBerYVQmJIfe",
        "outputId": "314f2872-f760-472c-ef36-49380a88dddd"
      },
      "execution_count": null,
      "outputs": [
        {
          "output_type": "stream",
          "name": "stdout",
          "text": [
            "              precision    recall  f1-score   support\n",
            "\n",
            "    Insomnia       0.86      0.83      0.84        23\n",
            "        None       0.93      0.95      0.94        66\n",
            " Sleep Apnea       0.87      0.83      0.85        24\n",
            "\n",
            "    accuracy                           0.90       113\n",
            "   macro avg       0.89      0.87      0.88       113\n",
            "weighted avg       0.90      0.90      0.90       113\n",
            "\n"
          ]
        }
      ]
    },
    {
      "cell_type": "code",
      "source": [
        "score_random = cm.score(X_test, y_test)"
      ],
      "metadata": {
        "execution": {
          "iopub.status.busy": "2023-07-11T23:27:17.069937Z",
          "iopub.execute_input": "2023-07-11T23:27:17.070394Z",
          "iopub.status.idle": "2023-07-11T23:27:17.076704Z",
          "shell.execute_reply.started": "2023-07-11T23:27:17.070362Z",
          "shell.execute_reply": "2023-07-11T23:27:17.074993Z"
        },
        "_kg_hide-input": true,
        "trusted": true,
        "id": "nMRhQaCwJIfe"
      },
      "execution_count": null,
      "outputs": []
    },
    {
      "cell_type": "markdown",
      "source": [
        "#### Checking the most important variables of the model."
      ],
      "metadata": {
        "id": "fMIEsACRBW6v"
      }
    },
    {
      "cell_type": "code",
      "source": [
        "feature_imp_random = pd.Series(random_forest.feature_importances_, index = columns).sort_values(ascending = False)\n",
        "feature_imp_random"
      ],
      "metadata": {
        "colab": {
          "base_uri": "https://localhost:8080/"
        },
        "id": "4nKcgPsVOBlK",
        "outputId": "c56875a2-45b6-4a25-de25-6485efdeb881"
      },
      "execution_count": null,
      "outputs": [
        {
          "output_type": "execute_result",
          "data": {
            "text/plain": [
              "BMI Category_Normal                0.131351\n",
              "BMI Category_Overweight            0.130821\n",
              "Blood Pressure_140/95              0.092496\n",
              "Age                                0.086894\n",
              "Sleep Duration                     0.073755\n",
              "Occupation_Nurse                   0.060407\n",
              "Physical Activity Level            0.055393\n",
              "Heart Rate                         0.049097\n",
              "Daily Steps                        0.048757\n",
              "Stress Level                       0.041599\n",
              "Quality of Sleep                   0.030586\n",
              "Occupation_Salesperson             0.026217\n",
              "Blood Pressure_135/90              0.025475\n",
              "Blood Pressure_130/85              0.020394\n",
              "Gender_Male                        0.015391\n",
              "Blood Pressure_125/80              0.014591\n",
              "Occupation_Doctor                  0.013854\n",
              "Occupation_Engineer                0.012983\n",
              "Occupation_Teacher                 0.012427\n",
              "Gender_Female                      0.011748\n",
              "BMI Category_Normal Weight         0.008467\n",
              "BMI Category_Obese                 0.006766\n",
              "Blood Pressure_120/80              0.005265\n",
              "Occupation_Accountant              0.003363\n",
              "Occupation_Lawyer                  0.002648\n",
              "Blood Pressure_132/87              0.002587\n",
              "Occupation_Sales Representative    0.002245\n",
              "Blood Pressure_130/86              0.001697\n",
              "Blood Pressure_128/85              0.001614\n",
              "Blood Pressure_128/84              0.001585\n",
              "Blood Pressure_142/92              0.001332\n",
              "Blood Pressure_131/86              0.001149\n",
              "Blood Pressure_139/91              0.000985\n",
              "Blood Pressure_129/84              0.000805\n",
              "Blood Pressure_140/90              0.000802\n",
              "Blood Pressure_135/88              0.000744\n",
              "Blood Pressure_126/83              0.000704\n",
              "Blood Pressure_118/75              0.000622\n",
              "Occupation_Software Engineer       0.000531\n",
              "Blood Pressure_115/75              0.000520\n",
              "Occupation_Scientist               0.000515\n",
              "Blood Pressure_121/79              0.000504\n",
              "Blood Pressure_117/76              0.000260\n",
              "Blood Pressure_115/78              0.000051\n",
              "Blood Pressure_119/77              0.000001\n",
              "Blood Pressure_122/80              0.000000\n",
              "Blood Pressure_118/76              0.000000\n",
              "Blood Pressure_125/82              0.000000\n",
              "Occupation_Manager                 0.000000\n",
              "dtype: float64"
            ]
          },
          "metadata": {},
          "execution_count": 87
        }
      ]
    },
    {
      "cell_type": "markdown",
      "source": [
        "#### Logistic Regression\n",
        "- Here we will use the Linear Regression Model."
      ],
      "metadata": {
        "id": "3b94SH-_JIfk"
      }
    },
    {
      "cell_type": "markdown",
      "source": [
        "###We achieved an even better result with our Logistic Regression model, achieving an accuracy of 91.11%."
      ],
      "metadata": {
        "id": "EHozNT2LJIfk"
      }
    },
    {
      "cell_type": "code",
      "source": [
        "from sklearn.linear_model import LogisticRegression\n",
        "logistic = LogisticRegression(random_state = 1, max_iter=10000)\n",
        "logistic.fit(X_train, y_train)\n",
        "previsoes = logistic.predict(X_test)\n",
        "\n",
        "cm = ConfusionMatrix(logistic)\n",
        "cm.fit(X_train, y_train)\n",
        "cm.score(X_test, y_test)"
      ],
      "metadata": {
        "execution": {
          "iopub.status.busy": "2023-07-11T23:15:02.341063Z",
          "iopub.execute_input": "2023-07-11T23:15:02.342748Z",
          "iopub.status.idle": "2023-07-11T23:15:02.628788Z",
          "shell.execute_reply.started": "2023-07-11T23:15:02.342691Z",
          "shell.execute_reply": "2023-07-11T23:15:02.627021Z"
        },
        "_kg_hide-input": true,
        "trusted": true,
        "colab": {
          "base_uri": "https://localhost:8080/",
          "height": 581
        },
        "id": "GES2Tq0wJIfl",
        "outputId": "e8c769f9-53f4-4662-a5c9-433f2441346b"
      },
      "execution_count": null,
      "outputs": [
        {
          "output_type": "execute_result",
          "data": {
            "text/plain": [
              "0.911504424778761"
            ]
          },
          "metadata": {},
          "execution_count": 88
        },
        {
          "output_type": "display_data",
          "data": {
            "text/plain": [
              "<Figure size 800x550 with 1 Axes>"
            ],
            "image/png": "[encoded data removed]"
          },
          "metadata": {}
        }
      ]
    },
    {
      "cell_type": "code",
      "source": [
        "logistic_normal = (classification_report(y_test, previsoes))\n",
        "print(logistic_normal)"
      ],
      "metadata": {
        "execution": {
          "iopub.status.busy": "2023-07-11T23:15:04.878981Z",
          "iopub.execute_input": "2023-07-11T23:15:04.879395Z",
          "iopub.status.idle": "2023-07-11T23:15:04.900651Z",
          "shell.execute_reply.started": "2023-07-11T23:15:04.879365Z",
          "shell.execute_reply": "2023-07-11T23:15:04.898974Z"
        },
        "_kg_hide-input": true,
        "trusted": true,
        "colab": {
          "base_uri": "https://localhost:8080/"
        },
        "id": "GFLWr9A7JIfl",
        "outputId": "9b93f70f-c159-4c20-f888-f89e4ba162b3"
      },
      "execution_count": null,
      "outputs": [
        {
          "output_type": "stream",
          "name": "stdout",
          "text": [
            "              precision    recall  f1-score   support\n",
            "\n",
            "    Insomnia       0.86      0.83      0.84        23\n",
            "        None       0.93      0.97      0.95        66\n",
            " Sleep Apnea       0.91      0.83      0.87        24\n",
            "\n",
            "    accuracy                           0.91       113\n",
            "   macro avg       0.90      0.88      0.89       113\n",
            "weighted avg       0.91      0.91      0.91       113\n",
            "\n"
          ]
        }
      ]
    },
    {
      "cell_type": "code",
      "source": [
        "logistic_normal = cm.score(X_test, y_test)\n",
        "print(logistic_normal)"
      ],
      "metadata": {
        "execution": {
          "iopub.status.busy": "2023-07-11T23:29:20.792306Z",
          "iopub.execute_input": "2023-07-11T23:29:20.792697Z",
          "iopub.status.idle": "2023-07-11T23:29:20.798443Z",
          "shell.execute_reply.started": "2023-07-11T23:29:20.792668Z",
          "shell.execute_reply": "2023-07-11T23:29:20.797129Z"
        },
        "_kg_hide-input": true,
        "trusted": true,
        "id": "GknIC9A4JIfl",
        "colab": {
          "base_uri": "https://localhost:8080/"
        },
        "outputId": "3786431d-faf6-413c-e7f5-f70a50be0bbc"
      },
      "execution_count": null,
      "outputs": [
        {
          "output_type": "stream",
          "name": "stdout",
          "text": [
            "0.911504424778761\n"
          ]
        }
      ]
    },
    {
      "cell_type": "markdown",
      "source": [
        "#### Checking the results."
      ],
      "metadata": {
        "id": "GL58vqyCJIfw"
      }
    },
    {
      "cell_type": "code",
      "source": [
        "Naive_dict_v1 = {'Model':'Naive Bayes',\n",
        "               'Scaling':'Normal Data',\n",
        "               'Type':'Gaussian',\n",
        "               'Precision':score_naive_gaussian}\n",
        "\n",
        "Decision_dict = {'Model':'Decision Tree',\n",
        "               'Scaling':'Normal Data',\n",
        "               'Type': 'Gini',\n",
        "               'Precision':score_tree}\n",
        "\n",
        "Random_dict = {'Model':'Random Forest',\n",
        "               'Scaling':'Normal Data',\n",
        "               'Type': 'Gini',\n",
        "               'Precision':score_random}\n",
        "\n",
        "Logistic_dict_v1 = {'Model':'Logistic Regression',\n",
        "               'Scaling':'Normal Data',\n",
        "               'Type':'-',\n",
        "               'Precision':logistic_normal}\n",
        "\n",
        "\n",
        "resume = pd.DataFrame({'Naive Bayes':pd.Series(Naive_dict_v1),\n",
        "                       'Decision Tree':pd.Series(Decision_dict),\n",
        "                       'Random Forest':pd.Series(Random_dict),\n",
        "                       'Logistic Regression':pd.Series(Logistic_dict_v1),\n",
        "                      })\n",
        "\n",
        "resume"
      ],
      "metadata": {
        "_kg_hide-input": true,
        "execution": {
          "iopub.status.busy": "2023-07-11T23:33:50.333390Z",
          "iopub.execute_input": "2023-07-11T23:33:50.333819Z",
          "iopub.status.idle": "2023-07-11T23:33:50.367079Z",
          "shell.execute_reply.started": "2023-07-11T23:33:50.333790Z",
          "shell.execute_reply": "2023-07-11T23:33:50.365605Z"
        },
        "trusted": true,
        "colab": {
          "base_uri": "https://localhost:8080/",
          "height": 175
        },
        "id": "THEWzQJTJIfw",
        "outputId": "b2e97cc6-37d3-49cf-9699-a285d86ff3c3"
      },
      "execution_count": null,
      "outputs": [
        {
          "output_type": "execute_result",
          "data": {
            "text/plain": [
              "           Naive Bayes  Decision Tree  Random Forest  Logistic Regression\n",
              "Model      Naive Bayes  Decision Tree  Random Forest  Logistic Regression\n",
              "Scaling    Normal Data    Normal Data    Normal Data          Normal Data\n",
              "Type          Gaussian           Gini           Gini                    -\n",
              "Precision     0.530973       0.893805       0.902655             0.911504"
            ],
            "text/html": [
              "\n",
              "\n",
              "  <div id=\"df-1b08a0d3-04bf-409c-828e-1c180f6c32f2\">\n",
              "    <div class=\"colab-df-container\">\n",
              "      <div>\n",
              "<style scoped>\n",
              "    .dataframe tbody tr th:only-of-type {\n",
              "        vertical-align: middle;\n",
              "    }\n",
              "\n",
              "    .dataframe tbody tr th {\n",
              "        vertical-align: top;\n",
              "    }\n",
              "\n",
              "    .dataframe thead th {\n",
              "        text-align: right;\n",
              "    }\n",
              "</style>\n",
              "<table border=\"1\" class=\"dataframe\">\n",
              "  <thead>\n",
              "    <tr style=\"text-align: right;\">\n",
              "      <th></th>\n",
              "      <th>Naive Bayes</th>\n",
              "      <th>Decision Tree</th>\n",
              "      <th>Random Forest</th>\n",
              "      <th>Logistic Regression</th>\n",
              "    </tr>\n",
              "  </thead>\n",
              "  <tbody>\n",
              "    <tr>\n",
              "      <th>Model</th>\n",
              "      <td>Naive Bayes</td>\n",
              "      <td>Decision Tree</td>\n",
              "      <td>Random Forest</td>\n",
              "      <td>Logistic Regression</td>\n",
              "    </tr>\n",
              "    <tr>\n",
              "      <th>Scaling</th>\n",
              "      <td>Normal Data</td>\n",
              "      <td>Normal Data</td>\n",
              "      <td>Normal Data</td>\n",
              "      <td>Normal Data</td>\n",
              "    </tr>\n",
              "    <tr>\n",
              "      <th>Type</th>\n",
              "      <td>Gaussian</td>\n",
              "      <td>Gini</td>\n",
              "      <td>Gini</td>\n",
              "      <td>-</td>\n",
              "    </tr>\n",
              "    <tr>\n",
              "      <th>Precision</th>\n",
              "      <td>0.530973</td>\n",
              "      <td>0.893805</td>\n",
              "      <td>0.902655</td>\n",
              "      <td>0.911504</td>\n",
              "    </tr>\n",
              "  </tbody>\n",
              "</table>\n",
              "</div>\n",
              "      <button class=\"colab-df-convert\" onclick=\"convertToInteractive('df-1b08a0d3-04bf-409c-828e-1c180f6c32f2')\"\n",
              "              title=\"Convert this dataframe to an interactive table.\"\n",
              "              style=\"display:none;\">\n",
              "\n",
              "  <svg xmlns=\"http://www.w3.org/2000/svg\" height=\"24px\"viewBox=\"0 0 24 24\"\n",
              "       width=\"24px\">\n",
              "    <path d=\"M0 0h24v24H0V0z\" fill=\"none\"/>\n",
              "    <path d=\"M18.56 5.44l.94 2.06.94-2.06 2.06-.94-2.06-.94-.94-2.06-.94 2.06-2.06.94zm-11 1L8.5 8.5l.94-2.06 2.06-.94-2.06-.94L8.5 2.5l-.94 2.06-2.06.94zm10 10l.94 2.06.94-2.06 2.06-.94-2.06-.94-.94-2.06-.94 2.06-2.06.94z\"/><path d=\"M17.41 7.96l-1.37-1.37c-.4-.4-.92-.59-1.43-.59-.52 0-1.04.2-1.43.59L10.3 9.45l-7.72 7.72c-.78.78-.78 2.05 0 2.83L4 21.41c.39.39.9.59 1.41.59.51 0 1.02-.2 1.41-.59l7.78-7.78 2.81-2.81c.8-.78.8-2.07 0-2.86zM5.41 20L4 18.59l7.72-7.72 1.47 1.35L5.41 20z\"/>\n",
              "  </svg>\n",
              "      </button>\n",
              "\n",
              "\n",
              "\n",
              "    <div id=\"df-ae54986c-d36b-427a-8e04-416c8d3749bf\">\n",
              "      <button class=\"colab-df-quickchart\" onclick=\"quickchart('df-ae54986c-d36b-427a-8e04-416c8d3749bf')\"\n",
              "              title=\"Suggest charts.\"\n",
              "              style=\"display:none;\">\n",
              "\n",
              "<svg xmlns=\"http://www.w3.org/2000/svg\" height=\"24px\"viewBox=\"0 0 24 24\"\n",
              "     width=\"24px\">\n",
              "    <g>\n",
              "        <path d=\"M19 3H5c-1.1 0-2 .9-2 2v14c0 1.1.9 2 2 2h14c1.1 0 2-.9 2-2V5c0-1.1-.9-2-2-2zM9 17H7v-7h2v7zm4 0h-2V7h2v10zm4 0h-2v-4h2v4z\"/>\n",
              "    </g>\n",
              "</svg>\n",
              "      </button>\n",
              "    </div>\n",
              "\n",
              "<style>\n",
              "  .colab-df-quickchart {\n",
              "    background-color: #E8F0FE;\n",
              "    border: none;\n",
              "    border-radius: 50%;\n",
              "    cursor: pointer;\n",
              "    display: none;\n",
              "    fill: #1967D2;\n",
              "    height: 32px;\n",
              "    padding: 0 0 0 0;\n",
              "    width: 32px;\n",
              "  }\n",
              "\n",
              "  .colab-df-quickchart:hover {\n",
              "    background-color: #E2EBFA;\n",
              "    box-shadow: 0px 1px 2px rgba(60, 64, 67, 0.3), 0px 1px 3px 1px rgba(60, 64, 67, 0.15);\n",
              "    fill: #174EA6;\n",
              "  }\n",
              "\n",
              "  [theme=dark] .colab-df-quickchart {\n",
              "    background-color: #3B4455;\n",
              "    fill: #D2E3FC;\n",
              "  }\n",
              "\n",
              "  [theme=dark] .colab-df-quickchart:hover {\n",
              "    background-color: #434B5C;\n",
              "    box-shadow: 0px 1px 3px 1px rgba(0, 0, 0, 0.15);\n",
              "    filter: drop-shadow(0px 1px 2px rgba(0, 0, 0, 0.3));\n",
              "    fill: #FFFFFF;\n",
              "  }\n",
              "</style>\n",
              "\n",
              "    <script>\n",
              "      async function quickchart(key) {\n",
              "        const containerElement = document.querySelector('#' + key);\n",
              "        const charts = await google.colab.kernel.invokeFunction(\n",
              "            'suggestCharts', [key], {});\n",
              "      }\n",
              "    </script>\n",
              "\n",
              "      <script>\n",
              "\n",
              "function displayQuickchartButton(domScope) {\n",
              "  let quickchartButtonEl =\n",
              "    domScope.querySelector('#df-ae54986c-d36b-427a-8e04-416c8d3749bf button.colab-df-quickchart');\n",
              "  quickchartButtonEl.style.display =\n",
              "    google.colab.kernel.accessAllowed ? 'block' : 'none';\n",
              "}\n",
              "\n",
              "        displayQuickchartButton(document);\n",
              "      </script>\n",
              "      <style>\n",
              "    .colab-df-container {\n",
              "      display:flex;\n",
              "      flex-wrap:wrap;\n",
              "      gap: 12px;\n",
              "    }\n",
              "\n",
              "    .colab-df-convert {\n",
              "      background-color: #E8F0FE;\n",
              "      border: none;\n",
              "      border-radius: 50%;\n",
              "      cursor: pointer;\n",
              "      display: none;\n",
              "      fill: #1967D2;\n",
              "      height: 32px;\n",
              "      padding: 0 0 0 0;\n",
              "      width: 32px;\n",
              "    }\n",
              "\n",
              "    .colab-df-convert:hover {\n",
              "      background-color: #E2EBFA;\n",
              "      box-shadow: 0px 1px 2px rgba(60, 64, 67, 0.3), 0px 1px 3px 1px rgba(60, 64, 67, 0.15);\n",
              "      fill: #174EA6;\n",
              "    }\n",
              "\n",
              "    [theme=dark] .colab-df-convert {\n",
              "      background-color: #3B4455;\n",
              "      fill: #D2E3FC;\n",
              "    }\n",
              "\n",
              "    [theme=dark] .colab-df-convert:hover {\n",
              "      background-color: #434B5C;\n",
              "      box-shadow: 0px 1px 3px 1px rgba(0, 0, 0, 0.15);\n",
              "      filter: drop-shadow(0px 1px 2px rgba(0, 0, 0, 0.3));\n",
              "      fill: #FFFFFF;\n",
              "    }\n",
              "  </style>\n",
              "\n",
              "      <script>\n",
              "        const buttonEl =\n",
              "          document.querySelector('#df-1b08a0d3-04bf-409c-828e-1c180f6c32f2 button.colab-df-convert');\n",
              "        buttonEl.style.display =\n",
              "          google.colab.kernel.accessAllowed ? 'block' : 'none';\n",
              "\n",
              "        async function convertToInteractive(key) {\n",
              "          const element = document.querySelector('#df-1b08a0d3-04bf-409c-828e-1c180f6c32f2');\n",
              "          const dataTable =\n",
              "            await google.colab.kernel.invokeFunction('convertToInteractive',\n",
              "                                                     [key], {});\n",
              "          if (!dataTable) return;\n",
              "\n",
              "          const docLinkHtml = 'Like what you see? Visit the ' +\n",
              "            '<a target=\"_blank\" href=https://colab.research.google.com/notebooks/data_table.ipynb>data table notebook</a>'\n",
              "            + ' to learn more about interactive tables.';\n",
              "          element.innerHTML = '';\n",
              "          dataTable['output_type'] = 'display_data';\n",
              "          await google.colab.output.renderOutput(dataTable, element);\n",
              "          const docLink = document.createElement('div');\n",
              "          docLink.innerHTML = docLinkHtml;\n",
              "          element.appendChild(docLink);\n",
              "        }\n",
              "      </script>\n",
              "    </div>\n",
              "  </div>\n"
            ]
          },
          "metadata": {},
          "execution_count": 91
        }
      ]
    },
    {
      "cell_type": "markdown",
      "source": [
        "## <font color='yellow'> 3. Conclusion. </font>"
      ],
      "metadata": {
        "id": "ranokYyHJIfx"
      }
    },
    {
      "cell_type": "markdown",
      "source": [
        "#### Our database is limited, containing only 374 data points with 13 columns. However, the self-explanatory nature of the data has been beneficial, avoiding complications due to the scarcity of data. Moreover, the absence of null values eliminated the need for data treatment.\n",
        "\n",
        "#### In our Machine Learning models, the data effectively explained the target variable. Most models performed well, with the Logistic regression model standing out, achieving 91.15% accuracy..\n",
        "\n",
        "#### The most important variables when we look inside the Machine Learning models we can define that they were BMI, Age and Physical Activity Level."
      ],
      "metadata": {
        "id": "iPbmgRRnJIfx"
      }
    }
  ]
}